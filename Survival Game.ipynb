{
 "cells": [
  {
   "cell_type": "code",
   "execution_count": 94,
   "id": "a46592e5",
   "metadata": {},
   "outputs": [],
   "source": [
    "import numpy as np\n",
    "import pandas as pd\n",
    "\n",
    "\n",
    "# Creating Dataset \n",
    "\n",
    "is_molotov = []\n",
    "is_ak47 = []\n",
    "is_armor = []\n",
    "is_katana = []\n",
    "is_medkit = []\n",
    "is_bahattin_the_dog = []\n",
    "\n",
    "# Value 1 for inputs means player chose\n",
    "# Value 0 for inputs means player didn't choose  \n",
    "\n",
    "for a in range(2):\n",
    "    for b in range(2):\n",
    "        for c in range(2):\n",
    "            for d in range(2):\n",
    "                for e in range(2):\n",
    "                    for f in range(2):\n",
    "                        is_molotov.append(a)\n",
    "                        is_ak47.append(b)\n",
    "                        is_armor.append(c)\n",
    "                        is_katana.append(d)\n",
    "                        is_medkit.append(e)\n",
    "                        is_bahattin_the_dog.append(f)\n",
    "\n",
    "# Value 1 for output means player survived\n",
    "# Value 0 for output means player didn't survive\n",
    "survived = []\n",
    "                        \n",
    "# if player gets (armor, ak-47 and bahattin the dog) or (bahattin the dog and katana) he certainly will win\n",
    "# else he will survive or not!\n",
    "for i in range(64):\n",
    "    if (is_armor[i] == 1 and is_ak47[i] == 1 and is_bahattin_the_dog[i] == 1) or ( is_bahattin_the_dog[i] == 1 and is_katana[i]):\n",
    "        survived.append(1)\n",
    "    else:\n",
    "        survived.append(np.random.randint(2))\n",
    "        \n",
    "\n",
    "# Creating a dictionary that includes our data\n",
    "data = { \"is_molotov\" : is_molotov,\n",
    "        \"is_ak47\" : is_ak47,\n",
    "        \"is_armor\" : is_armor,\n",
    "        \"is_katana\" : is_katana,\n",
    "        \"is_medkit\" : is_medkit,\n",
    "        \"is_bahattin_the_dog\" : is_bahattin_the_dog,\n",
    "        \"survived\" : survived\n",
    "}\n",
    "# Creating a dataframe\n",
    "data = pd.DataFrame(data)\n"
   ]
  },
  {
   "cell_type": "markdown",
   "id": "d0fa0b4a",
   "metadata": {},
   "source": [
    "# Write Dictionary to a CSV File"
   ]
  },
  {
   "cell_type": "code",
   "execution_count": 95,
   "id": "a3363568",
   "metadata": {},
   "outputs": [],
   "source": [
    "data.to_csv('sample.csv', index=False)"
   ]
  },
  {
   "cell_type": "code",
   "execution_count": 96,
   "id": "ffaf0674",
   "metadata": {},
   "outputs": [
    {
     "data": {
      "text/html": [
       "<div>\n",
       "<style scoped>\n",
       "    .dataframe tbody tr th:only-of-type {\n",
       "        vertical-align: middle;\n",
       "    }\n",
       "\n",
       "    .dataframe tbody tr th {\n",
       "        vertical-align: top;\n",
       "    }\n",
       "\n",
       "    .dataframe thead th {\n",
       "        text-align: right;\n",
       "    }\n",
       "</style>\n",
       "<table border=\"1\" class=\"dataframe\">\n",
       "  <thead>\n",
       "    <tr style=\"text-align: right;\">\n",
       "      <th></th>\n",
       "      <th>is_molotov</th>\n",
       "      <th>is_ak47</th>\n",
       "      <th>is_armor</th>\n",
       "      <th>is_katana</th>\n",
       "      <th>is_medkit</th>\n",
       "      <th>is_bahattin_the_dog</th>\n",
       "      <th>survived</th>\n",
       "    </tr>\n",
       "  </thead>\n",
       "  <tbody>\n",
       "    <tr>\n",
       "      <th>0</th>\n",
       "      <td>0</td>\n",
       "      <td>0</td>\n",
       "      <td>0</td>\n",
       "      <td>0</td>\n",
       "      <td>0</td>\n",
       "      <td>0</td>\n",
       "      <td>1</td>\n",
       "    </tr>\n",
       "    <tr>\n",
       "      <th>1</th>\n",
       "      <td>0</td>\n",
       "      <td>0</td>\n",
       "      <td>0</td>\n",
       "      <td>0</td>\n",
       "      <td>0</td>\n",
       "      <td>1</td>\n",
       "      <td>1</td>\n",
       "    </tr>\n",
       "    <tr>\n",
       "      <th>2</th>\n",
       "      <td>0</td>\n",
       "      <td>0</td>\n",
       "      <td>0</td>\n",
       "      <td>0</td>\n",
       "      <td>1</td>\n",
       "      <td>0</td>\n",
       "      <td>0</td>\n",
       "    </tr>\n",
       "    <tr>\n",
       "      <th>3</th>\n",
       "      <td>0</td>\n",
       "      <td>0</td>\n",
       "      <td>0</td>\n",
       "      <td>0</td>\n",
       "      <td>1</td>\n",
       "      <td>1</td>\n",
       "      <td>1</td>\n",
       "    </tr>\n",
       "    <tr>\n",
       "      <th>4</th>\n",
       "      <td>0</td>\n",
       "      <td>0</td>\n",
       "      <td>0</td>\n",
       "      <td>1</td>\n",
       "      <td>0</td>\n",
       "      <td>0</td>\n",
       "      <td>0</td>\n",
       "    </tr>\n",
       "  </tbody>\n",
       "</table>\n",
       "</div>"
      ],
      "text/plain": [
       "   is_molotov  is_ak47  is_armor  is_katana  is_medkit  is_bahattin_the_dog  \\\n",
       "0           0        0         0          0          0                    0   \n",
       "1           0        0         0          0          0                    1   \n",
       "2           0        0         0          0          1                    0   \n",
       "3           0        0         0          0          1                    1   \n",
       "4           0        0         0          1          0                    0   \n",
       "\n",
       "   survived  \n",
       "0         1  \n",
       "1         1  \n",
       "2         0  \n",
       "3         1  \n",
       "4         0  "
      ]
     },
     "execution_count": 96,
     "metadata": {},
     "output_type": "execute_result"
    }
   ],
   "source": [
    "df = pd.read_csv(\"sample.csv\")\n",
    "# Printing first 5 records in our dataframe\n",
    "df.head()"
   ]
  },
  {
   "cell_type": "code",
   "execution_count": 97,
   "id": "2af33d4f",
   "metadata": {},
   "outputs": [],
   "source": [
    "# Selecting inputs and output from dataframe \n",
    "X = df.iloc[:,:6]\n",
    "y = df.iloc[:,6:7]"
   ]
  },
  {
   "cell_type": "code",
   "execution_count": 98,
   "id": "53ec07df",
   "metadata": {},
   "outputs": [],
   "source": [
    "# ML algorithms Imports \n",
    "from sklearn.model_selection import train_test_split\n",
    "\n",
    "from sklearn.neighbors import KNeighborsClassifier\n",
    "from sklearn.linear_model import LogisticRegression\n",
    "from sklearn.svm import SVC\n",
    "from sklearn.tree import DecisionTreeClassifier\n",
    "from sklearn.neural_network import MLPClassifier"
   ]
  },
  {
   "cell_type": "code",
   "execution_count": 99,
   "id": "07fc0b9f",
   "metadata": {},
   "outputs": [],
   "source": [
    "# Train size 70%, test size 30%\n",
    "X_train, X_test, y_train, y_test = train_test_split(X, y, train_size=0.7, random_state=123)"
   ]
  },
  {
   "cell_type": "markdown",
   "id": "b19869b8",
   "metadata": {},
   "source": [
    "# TRAINING"
   ]
  },
  {
   "cell_type": "code",
   "execution_count": 100,
   "id": "354ca9cf",
   "metadata": {},
   "outputs": [
    {
     "name": "stdout",
     "output_type": "stream",
     "text": [
      "   K-Nearest Neighbors trained.\n",
      "   Logistic Regression trained.\n",
      "Support Vector Machine trained.\n",
      "         Decision Tree trained.\n",
      "        Neural Network trained.\n"
     ]
    }
   ],
   "source": [
    "import warnings\n",
    "warnings.filterwarnings(\"ignore\")\n",
    "\n",
    "models = {\n",
    "    \"   K-Nearest Neighbors\": KNeighborsClassifier(),\n",
    "    \"   Logistic Regression\": LogisticRegression(),\n",
    "    \"Support Vector Machine\": SVC(),\n",
    "    \"         Decision Tree\": DecisionTreeClassifier(),\n",
    "    \"        Neural Network\": MLPClassifier()\n",
    "}\n",
    "\n",
    "for name, model in models.items():\n",
    "    model.fit(X_train, y_train)\n",
    "    print(name + \" trained.\")"
   ]
  },
  {
   "cell_type": "markdown",
   "id": "e07f1def",
   "metadata": {},
   "source": [
    "# RESULTS"
   ]
  },
  {
   "cell_type": "code",
   "execution_count": 101,
   "id": "9dededc0",
   "metadata": {},
   "outputs": [
    {
     "name": "stdout",
     "output_type": "stream",
     "text": [
      "   K-Nearest Neighbors Accuracy: 75.00%\n",
      "   Logistic Regression Accuracy: 80.00%\n",
      "Support Vector Machine Accuracy: 70.00%\n",
      "         Decision Tree Accuracy: 60.00%\n",
      "        Neural Network Accuracy: 75.00%\n"
     ]
    }
   ],
   "source": [
    "for name, model in models.items():\n",
    "    print(name + \" Accuracy: {:.2f}%\".format(model.score(X_test, y_test) * 100))"
   ]
  },
  {
   "cell_type": "code",
   "execution_count": 102,
   "id": "d6c12555",
   "metadata": {},
   "outputs": [],
   "source": [
    "# Choosing best model through their accuracy values\n",
    "best_model = models[\"   Logistic Regression\"]"
   ]
  },
  {
   "cell_type": "code",
   "execution_count": 103,
   "id": "1fdec4b0",
   "metadata": {},
   "outputs": [
    {
     "data": {
      "text/html": [
       "<div>\n",
       "<style scoped>\n",
       "    .dataframe tbody tr th:only-of-type {\n",
       "        vertical-align: middle;\n",
       "    }\n",
       "\n",
       "    .dataframe tbody tr th {\n",
       "        vertical-align: top;\n",
       "    }\n",
       "\n",
       "    .dataframe thead th {\n",
       "        text-align: right;\n",
       "    }\n",
       "</style>\n",
       "<table border=\"1\" class=\"dataframe\">\n",
       "  <thead>\n",
       "    <tr style=\"text-align: right;\">\n",
       "      <th></th>\n",
       "      <th>is_molotov</th>\n",
       "      <th>is_ak47</th>\n",
       "      <th>is_armor</th>\n",
       "      <th>is_katana</th>\n",
       "      <th>is_medkit</th>\n",
       "      <th>is_bahattin_the_dog</th>\n",
       "    </tr>\n",
       "  </thead>\n",
       "  <tbody>\n",
       "    <tr>\n",
       "      <th>40</th>\n",
       "      <td>1</td>\n",
       "      <td>0</td>\n",
       "      <td>1</td>\n",
       "      <td>0</td>\n",
       "      <td>0</td>\n",
       "      <td>0</td>\n",
       "    </tr>\n",
       "    <tr>\n",
       "      <th>41</th>\n",
       "      <td>1</td>\n",
       "      <td>0</td>\n",
       "      <td>1</td>\n",
       "      <td>0</td>\n",
       "      <td>0</td>\n",
       "      <td>1</td>\n",
       "    </tr>\n",
       "    <tr>\n",
       "      <th>11</th>\n",
       "      <td>0</td>\n",
       "      <td>0</td>\n",
       "      <td>1</td>\n",
       "      <td>0</td>\n",
       "      <td>1</td>\n",
       "      <td>1</td>\n",
       "    </tr>\n",
       "    <tr>\n",
       "      <th>0</th>\n",
       "      <td>0</td>\n",
       "      <td>0</td>\n",
       "      <td>0</td>\n",
       "      <td>0</td>\n",
       "      <td>0</td>\n",
       "      <td>0</td>\n",
       "    </tr>\n",
       "  </tbody>\n",
       "</table>\n",
       "</div>"
      ],
      "text/plain": [
       "    is_molotov  is_ak47  is_armor  is_katana  is_medkit  is_bahattin_the_dog\n",
       "40           1        0         1          0          0                    0\n",
       "41           1        0         1          0          0                    1\n",
       "11           0        0         1          0          1                    1\n",
       "0            0        0         0          0          0                    0"
      ]
     },
     "execution_count": 103,
     "metadata": {},
     "output_type": "execute_result"
    }
   ],
   "source": [
    "numpy_ytest = np.array(y_test)\n",
    "hard_examples = X_test.loc[(best_model.predict(X_test) != numpy_ytest.flatten()), :]\n",
    "hard_examples"
   ]
  },
  {
   "cell_type": "code",
   "execution_count": 110,
   "id": "63b38da1",
   "metadata": {},
   "outputs": [
    {
     "data": {
      "text/html": [
       "<div>\n",
       "<style scoped>\n",
       "    .dataframe tbody tr th:only-of-type {\n",
       "        vertical-align: middle;\n",
       "    }\n",
       "\n",
       "    .dataframe tbody tr th {\n",
       "        vertical-align: top;\n",
       "    }\n",
       "\n",
       "    .dataframe thead th {\n",
       "        text-align: right;\n",
       "    }\n",
       "</style>\n",
       "<table border=\"1\" class=\"dataframe\">\n",
       "  <thead>\n",
       "    <tr style=\"text-align: right;\">\n",
       "      <th></th>\n",
       "      <th>is_molotov</th>\n",
       "      <th>is_ak47</th>\n",
       "      <th>is_armor</th>\n",
       "      <th>is_katana</th>\n",
       "      <th>is_medkit</th>\n",
       "      <th>is_bahattin_the_dog</th>\n",
       "      <th>survived</th>\n",
       "    </tr>\n",
       "  </thead>\n",
       "  <tbody>\n",
       "    <tr>\n",
       "      <th>40</th>\n",
       "      <td>1</td>\n",
       "      <td>0</td>\n",
       "      <td>1</td>\n",
       "      <td>0</td>\n",
       "      <td>0</td>\n",
       "      <td>0</td>\n",
       "      <td>0</td>\n",
       "    </tr>\n",
       "    <tr>\n",
       "      <th>41</th>\n",
       "      <td>1</td>\n",
       "      <td>0</td>\n",
       "      <td>1</td>\n",
       "      <td>0</td>\n",
       "      <td>0</td>\n",
       "      <td>1</td>\n",
       "      <td>0</td>\n",
       "    </tr>\n",
       "    <tr>\n",
       "      <th>11</th>\n",
       "      <td>0</td>\n",
       "      <td>0</td>\n",
       "      <td>1</td>\n",
       "      <td>0</td>\n",
       "      <td>1</td>\n",
       "      <td>1</td>\n",
       "      <td>0</td>\n",
       "    </tr>\n",
       "    <tr>\n",
       "      <th>0</th>\n",
       "      <td>0</td>\n",
       "      <td>0</td>\n",
       "      <td>0</td>\n",
       "      <td>0</td>\n",
       "      <td>0</td>\n",
       "      <td>0</td>\n",
       "      <td>1</td>\n",
       "    </tr>\n",
       "  </tbody>\n",
       "</table>\n",
       "</div>"
      ],
      "text/plain": [
       "    is_molotov  is_ak47  is_armor  is_katana  is_medkit  is_bahattin_the_dog  \\\n",
       "40           1        0         1          0          0                    0   \n",
       "41           1        0         1          0          0                    1   \n",
       "11           0        0         1          0          1                    1   \n",
       "0            0        0         0          0          0                    0   \n",
       "\n",
       "    survived  \n",
       "40         0  \n",
       "41         0  \n",
       "11         0  \n",
       "0          1  "
      ]
     },
     "execution_count": 110,
     "metadata": {},
     "output_type": "execute_result"
    }
   ],
   "source": [
    "hard_examples = data.loc[hard_examples.index, :]\n",
    "hard_examples"
   ]
  },
  {
   "cell_type": "code",
   "execution_count": null,
   "id": "ecd92834",
   "metadata": {},
   "outputs": [],
   "source": []
  },
  {
   "cell_type": "code",
   "execution_count": null,
   "id": "32b6106f",
   "metadata": {},
   "outputs": [],
   "source": []
  },
  {
   "cell_type": "code",
   "execution_count": null,
   "id": "12945152",
   "metadata": {},
   "outputs": [],
   "source": []
  },
  {
   "cell_type": "code",
   "execution_count": null,
   "id": "c23967b5",
   "metadata": {},
   "outputs": [],
   "source": []
  },
  {
   "cell_type": "code",
   "execution_count": null,
   "id": "39899db0",
   "metadata": {},
   "outputs": [],
   "source": []
  }
 ],
 "metadata": {
  "kernelspec": {
   "display_name": "GPUEnv",
   "language": "python",
   "name": "gpuenv"
  },
  "language_info": {
   "codemirror_mode": {
    "name": "ipython",
    "version": 3
   },
   "file_extension": ".py",
   "mimetype": "text/x-python",
   "name": "python",
   "nbconvert_exporter": "python",
   "pygments_lexer": "ipython3",
   "version": "3.9.0"
  },
  "varInspector": {
   "cols": {
    "lenName": 16,
    "lenType": 16,
    "lenVar": 40
   },
   "kernels_config": {
    "python": {
     "delete_cmd_postfix": "",
     "delete_cmd_prefix": "del ",
     "library": "var_list.py",
     "varRefreshCmd": "print(var_dic_list())"
    },
    "r": {
     "delete_cmd_postfix": ") ",
     "delete_cmd_prefix": "rm(",
     "library": "var_list.r",
     "varRefreshCmd": "cat(var_dic_list()) "
    }
   },
   "types_to_exclude": [
    "module",
    "function",
    "builtin_function_or_method",
    "instance",
    "_Feature"
   ],
   "window_display": false
  }
 },
 "nbformat": 4,
 "nbformat_minor": 5
}
